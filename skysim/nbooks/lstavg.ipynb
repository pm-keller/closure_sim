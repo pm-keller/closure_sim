{
 "cells": [
  {
   "cell_type": "markdown",
   "metadata": {},
   "source": [
    "# Averaging Closure Phases Coherently along LST Axis\n",
    "The aim of this notebook is to investigate what duration of data can be averaged without degrading the EoR signal. "
   ]
  },
  {
   "cell_type": "code",
   "execution_count": 1,
   "metadata": {},
   "outputs": [],
   "source": [
    "import os\n",
    "import sys\n",
    "import numpy as np\n",
    "from scipy.signal.windows import get_window\n",
    "import astropy.units as u\n",
    "\n",
    "import matplotlib.pyplot as plt\n",
    "from matplotlib import cm \n",
    "from ipywidgets import interact\n",
    "\n",
    "root = os.path.join(os.getcwd(), \"../\")\n",
    "sys.path.append(root)\n",
    "\n",
    "import vis as vs\n",
    "import dspec"
   ]
  },
  {
   "cell_type": "markdown",
   "metadata": {},
   "source": [
    "## Compute Power Spectra"
   ]
  },
  {
   "cell_type": "markdown",
   "metadata": {},
   "source": [
    "### Make Window Function\n",
    "Using a convolved (modified) Blackmanharris window for improved dynamic range."
   ]
  },
  {
   "cell_type": "code",
   "execution_count": 2,
   "metadata": {},
   "outputs": [
    {
     "ename": "NameError",
     "evalue": "name 'freq_array' is not defined",
     "output_type": "error",
     "traceback": [
      "\u001b[0;31m---------------------------------------------------------------------------\u001b[0m",
      "\u001b[0;31mNameError\u001b[0m                                 Traceback (most recent call last)",
      "\u001b[0;32m<ipython-input-2-6833a2d87635>\u001b[0m in \u001b[0;36m<module>\u001b[0;34m\u001b[0m\n\u001b[0;32m----> 1\u001b[0;31m \u001b[0mbh\u001b[0m \u001b[0;34m=\u001b[0m \u001b[0mget_window\u001b[0m\u001b[0;34m(\u001b[0m\u001b[0;34m\"blackmanharris\"\u001b[0m\u001b[0;34m,\u001b[0m \u001b[0mlen\u001b[0m\u001b[0;34m(\u001b[0m\u001b[0mfreq_array\u001b[0m\u001b[0;34m)\u001b[0m\u001b[0;34m)\u001b[0m\u001b[0;34m\u001b[0m\u001b[0;34m\u001b[0m\u001b[0m\n\u001b[0m\u001b[1;32m      2\u001b[0m \u001b[0mbh\u001b[0m \u001b[0;34m=\u001b[0m \u001b[0mbh\u001b[0m \u001b[0;34m/\u001b[0m \u001b[0mnp\u001b[0m\u001b[0;34m.\u001b[0m\u001b[0msqrt\u001b[0m\u001b[0;34m(\u001b[0m\u001b[0mnp\u001b[0m\u001b[0;34m.\u001b[0m\u001b[0mmean\u001b[0m\u001b[0;34m(\u001b[0m\u001b[0mbh\u001b[0m\u001b[0;34m**\u001b[0m\u001b[0;36m2\u001b[0m\u001b[0;34m)\u001b[0m\u001b[0;34m)\u001b[0m\u001b[0;34m\u001b[0m\u001b[0;34m\u001b[0m\u001b[0m\n\u001b[1;32m      3\u001b[0m \u001b[0mbh2\u001b[0m \u001b[0;34m=\u001b[0m \u001b[0mnp\u001b[0m\u001b[0;34m.\u001b[0m\u001b[0mconvolve\u001b[0m\u001b[0;34m(\u001b[0m\u001b[0mbh\u001b[0m\u001b[0;34m,\u001b[0m \u001b[0mbh\u001b[0m\u001b[0;34m)\u001b[0m\u001b[0;34m[\u001b[0m\u001b[0;34m:\u001b[0m\u001b[0;34m:\u001b[0m\u001b[0;36m2\u001b[0m\u001b[0;34m]\u001b[0m\u001b[0;34m\u001b[0m\u001b[0;34m\u001b[0m\u001b[0m\n\u001b[1;32m      4\u001b[0m \u001b[0mbh2\u001b[0m \u001b[0;34m=\u001b[0m \u001b[0mbh2\u001b[0m \u001b[0;34m/\u001b[0m \u001b[0mnp\u001b[0m\u001b[0;34m.\u001b[0m\u001b[0msqrt\u001b[0m\u001b[0;34m(\u001b[0m\u001b[0mnp\u001b[0m\u001b[0;34m.\u001b[0m\u001b[0mmean\u001b[0m\u001b[0;34m(\u001b[0m\u001b[0mbh2\u001b[0m\u001b[0;34m**\u001b[0m\u001b[0;36m2\u001b[0m\u001b[0;34m)\u001b[0m\u001b[0;34m)\u001b[0m\u001b[0;34m\u001b[0m\u001b[0;34m\u001b[0m\u001b[0m\n",
      "\u001b[0;31mNameError\u001b[0m: name 'freq_array' is not defined"
     ]
    }
   ],
   "source": [
    "bh = get_window(\"blackmanharris\", len(freq_array))\n",
    "bh = bh / np.sqrt(np.mean(bh**2))\n",
    "bh2 = np.convolve(bh, bh)[::2]\n",
    "bh2 = bh2 / np.sqrt(np.mean(bh2**2))"
   ]
  },
  {
   "cell_type": "markdown",
   "metadata": {},
   "source": [
    "### Compute Power Spectra"
   ]
  },
  {
   "cell_type": "code",
   "execution_count": null,
   "metadata": {},
   "outputs": [],
   "source": [
    "import h5py\n",
    "with h5py.File(\"/home/pascal/PhD Project/Code/ClosureSim/data/ps_lst_avg_EQ14_FCB2.h5\", \"r\") as f:\n",
    "   pslist = f[\"Data\"][()]\n",
    "   delay = f[\"Delay\"][()]\n",
    "   lst_list = f[\"LST Array\"][()]\n",
    "\n",
    "lst_flags = [4.0, 4.2]\n",
    "idx = np.where(lst_list > lst_flags[1])\n",
    "pslist = pslist[idx]\n",
    "lst_list = lst_list[idx]\n",
    "ps_list = np.nanmean(pslist, axis=0)"
   ]
  },
  {
   "cell_type": "markdown",
   "metadata": {},
   "source": [
    "## Plots"
   ]
  },
  {
   "cell_type": "code",
   "execution_count": null,
   "metadata": {},
   "outputs": [
    {
     "data": {
      "application/vnd.jupyter.widget-view+json": {
       "model_id": "35ab63cdc2f744e182ae8734a14e6e2e",
       "version_major": 2,
       "version_minor": 0
      },
      "text/plain": [
       "interactive(children=(IntSlider(value=455, description='i', max=910), Output()), _dom_classes=('widget-interac…"
      ]
     },
     "metadata": {},
     "output_type": "display_data"
    },
    {
     "data": {
      "text/plain": [
       "<function __main__.plot(i)>"
      ]
     },
     "execution_count": 19,
     "metadata": {},
     "output_type": "execute_result"
    }
   ],
   "source": [
    "def plot(i):\n",
    "    N = len(ps_list)\n",
    "    colors = cm.get_cmap(\"plasma\")(np.linspace(0, 1, 10))\n",
    "\n",
    "    for ps, color in zip(pslist[i], colors):\n",
    "        plt.plot(delay, ps.real, color=color, linewidth=0.5)\n",
    "\n",
    "    plt.yscale(\"log\")\n",
    "    plt.xlim([min(delay), max(delay)])\n",
    "    plt.ylim([1e-2, 1e14])\n",
    "    plt.xlabel(r\"Delay ($\\mu\\mathrm{s}$)\")\n",
    "    plt.ylabel(r\"$\\frac{2}{3}P_\\bigtriangledown\\left(\\kappa_{||}\\right)$ (pseudo $\\mathrm{mK}^2\\mathrm{h}^{-3}\\mathrm{Mpc}^3$)\");\n",
    "    plt.show()\n",
    "\n",
    "interact(plot, i=(0, len(pslist)-1))\n"
   ]
  },
  {
   "cell_type": "code",
   "execution_count": null,
   "metadata": {},
   "outputs": [
    {
     "data": {
      "image/png": "[encoded data removed]",
      "text/plain": [
       "<Figure size 432x288 with 1 Axes>"
      ]
     },
     "metadata": {
      "needs_background": "light"
     },
     "output_type": "display_data"
    }
   ],
   "source": [
    "idx = np.where(np.abs(delay) > 2)[0]\n",
    "N=9\n",
    "loss_0 = [np.mean(ps_list[i].real[idx] / ps_list[0][idx].real) for i in range(N)]\n",
    "loss_1 = [np.median(ps_list[i].real[idx] / ps_list[0][idx].real) for i in range(N)]\n",
    "loss_rel = [1,] + [np.mean(ps_list[i].real[idx] / ps_list[i-1][idx].real) for i in range(1, N)]\n",
    "xvals = np.arange(1, 10) * 28.627704148\n",
    "\n",
    "plt.plot(xvals, 1-np.array(loss_0), marker=\"o\", color=\"k\", linewidth=0, label=r\"$\\tau>2\\mu\\mathrm{s}$\")\n",
    "#plt.plot(xvals, 1-np.array(loss_1), marker=\"o\", color=\"g\", linewidth=0, label=r\"$\\tau>2\\mu\\mathrm{s}$\")\n",
    "#plt.plot(xvals, 1-metrics, marker=\"o\", color=\"b\", linewidth=0, label=r\"$\\tau=0\\mu\\mathrm{s}$\")\n",
    "plt.hlines(0.02, 0, 428, linestyle=\"dashed\", linewidth=0.5, label=\"2%\")\n",
    "plt.xlim([0, 300])\n",
    "#plt.ylim([0, 0.035])\n",
    "plt.minorticks_on()\n",
    "plt.xlabel(\"Integration Time (s)\")\n",
    "plt.ylabel(r\"$1-\\eta$\")\n",
    "plt.legend();\n",
    "plt.savefig(\"/home/pascal/PhD Project/Code/ClosureSim/plots/lstavg.png\", dpi=600)"
   ]
  }
 ],
 "metadata": {
  "interpreter": {
   "hash": "903b66f37a70f66b583acd3b47d89058b6b0fb6981f34110bf18c31a03d74273"
  },
  "kernelspec": {
   "display_name": "Python 3.8.3 ('base')",
   "language": "python",
   "name": "python3"
  },
  "language_info": {
   "codemirror_mode": {
    "name": "ipython",
    "version": 3
   },
   "file_extension": ".py",
   "mimetype": "text/x-python",
   "name": "python",
   "nbconvert_exporter": "python",
   "pygments_lexer": "ipython3",
   "version": "3.8.3"
  },
  "orig_nbformat": 4
 },
 "nbformat": 4,
 "nbformat_minor": 2
}
